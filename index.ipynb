{
 "cells": [
  {
   "cell_type": "markdown",
   "metadata": {},
   "source": [
    "<div align=\"center\">\n",
    "<a href=\"https://pytorch.org/\">\n",
    "    <img src=https://raw.githubusercontent.com/pytorch/pytorch/master/docs/source/_static/img/pytorch-logo-dark.png alt=\"PyTorch\" width=\"600\"/>\n",
    "</a>\n",
    "</div> \n",
    "\n",
    "PyTorch is an open-source library (BSD) with Python ([and C++](https://pytorch.org/tutorials/advanced/cpp_frontend.html)) interface that provides two key high-level features[^1]: \n",
    "- Tensor computation [similar to](https://github.com/wkentaro/pytorch-for-numpy-users) `NumPy` with [**GPU acceleration**](https://developer.nvidia.com/deep-learning-frameworks).\n",
    "- Deep Neural Networks built on a tape-based automatic differentiation ([**autograd**](https://pytorch.org/tutorials/beginner/former_torchies/autograd_tutorial.html)) system.\n",
    "\n",
    "**Computation graphs**\n",
    "\n",
    "Why PyTorch `tensor` and not just NumPy `ndarray`?\n",
    "- Implicitly create a **computational graph** in background, **dynamically**.\n",
    "- We can use this **graph** to perform **backpropagation** ([3Blue1Brown video](https://www.youtube.com/watch?v=tIeHLnjs5U8)).\n",
    "- Easily calculate all the **gradients** necessary for the optimization problem (**gradient descent**).\n",
    "\n",
    "<div align=\"center\">\n",
    "    <img src=\"../images/autograd.png\" alt=\"autograd\" width=\"600\"/>\n",
    "</div>\n",
    "\n",
    "By calling the `.backward()` method, we can calculate all the gradients of the gradient descent problem:\n",
    "- Compute gradients using the chain rule.\n",
    "- based on **computational graph**, directed acyclic graph from root (loss, $\\mathcal{L}$) to leaf (weights and bias, $\\theta$).\n",
    "\n",
    "\n",
    "\n",
    "**PyTorch API**\n",
    "\n",
    "- `torch.Tensor`: A multi-dimensional **matrix** containing elements of a single data type.\n",
    "- `torch.nn`: Contains all the modules and classes for building the **neural network**.\n",
    "- `torch.nn.functional`: A **functional** interface to all the algorithms for building neural network.\n",
    "- `torch.optim`: A package implementing various **optimization algorithms**.\n",
    "- `torch.utils`: Contains utility classes for data set loading and pre-processing (augmentation).\n",
    "- `torch.cuda`: The package adds support for **CUDA** tensor type that implement the same function as CPU tensors, but they utilize GPUs for computation.\n",
    "\n",
    "Separately packages libraries:\n",
    "\n",
    "- `torchvision`: The package consists of popular datasets, model architectures, and common image transformations for **computer vision**.\n",
    "- `torchaudio`: The package consists of I/O, popular datasets and common **audio** transformations.\n",
    "- `torchtext`: The package consists of data processing utilities and popular datasets for **natural language**.\n",
    "\n",
    "\n",
    "[^1]: https://pytorch.org/docs/stable/tensors.html#torch-tensor\n",
    "\n",
    "----"
   ]
  },
  {
   "cell_type": "markdown",
   "metadata": {},
   "source": [
    "## Table of Contents\n",
    "\n",
    "### 1. Basics\n",
    "\n",
    "- [Linear regression](01-basics/01-linear_regression.ipynb) [![Colab](https://colab.research.google.com/assets/colab-badge.svg)](https://colab.research.google.com/github/lento234/ml-tutorials/blob/main/01-basics/01-linear_regression.ipynb) \n",
    "- [Image classification: CIFAR10](01-basics/02-CIFAR10.ipynb) [![Colab](https://colab.research.google.com/assets/colab-badge.svg)](https://colab.research.google.com/github/lento234/ml-tutorials/blob/main/01-basics/02-CIFAR10.ipynb)\n",
    "- [Image classification: CIFAR10 (**pytorch-lightning**)](01-basics/03-CIFAR10_pl.ipynb) [![Colab](https://colab.research.google.com/assets/colab-badge.svg)](https://colab.research.google.com/github/lento234/ml-tutorials/blob/main/01-basics/03-CIFAR10_pl.ipynb)\n",
    "\n",
    "### 2. Advanced\n",
    "\n",
    "- [Image segmentation: PASCAL VOC dataset](02-advanced/image_segmentation.ipynb) [![Colab](https://colab.research.google.com/assets/colab-badge.svg)](https://colab.research.google.com/github/lento234/ml-tutorials/blob/main/02-advanced/image_segmentation.ipynb)\n",
    "- [Basic GAN](02-advanced/basic_gan.ipynb) [![Colab](https://colab.research.google.com/assets/colab-badge.svg)](https://colab.research.google.com/github/lento234/ml-tutorials/blob/main/02-advanced/basic_gan.ipynb)\n",
    "- [TPU Training: MNIST](02-advanced/tpu_training_mnist.ipynb) [![Colab](https://colab.research.google.com/assets/colab-badge.svg)](https://colab.research.google.com/github/lento234/ml-tutorials/blob/main/02-advanced/tpu_training_mnist.ipynb)"
   ]
  }
 ],
 "metadata": {
  "anaconda-cloud": {},
  "kernelspec": {
   "display_name": "Python 3",
   "language": "python",
   "name": "python3"
  },
  "language_info": {
   "codemirror_mode": {
    "name": "ipython",
    "version": 3
   },
   "file_extension": ".py",
   "mimetype": "text/x-python",
   "name": "python",
   "nbconvert_exporter": "python",
   "pygments_lexer": "ipython3",
   "version": "3.8.6"
  }
 },
 "nbformat": 4,
 "nbformat_minor": 4
}
