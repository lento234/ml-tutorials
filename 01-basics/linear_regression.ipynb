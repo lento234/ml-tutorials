{
 "cells": [
  {
   "cell_type": "markdown",
   "metadata": {},
   "source": [
    "# Linear regression\n",
    "\n",
    "[![Colab](https://colab.research.google.com/assets/colab-badge.svg)](https://colab.research.google.com/github/lento234/ml-tutorials/blob/main/01-basics/linear_regression.ipynb)\n",
    "\n",
    "**References**:\n",
    "- https://github.com/yunjey/pytorch-tutorial/blob/master/tutorials/01-basics/linear_regression/main.py\n",
    "- https://en.wikipedia.org/wiki/Linear_regression"
   ]
  },
  {
   "cell_type": "markdown",
   "metadata": {},
   "source": [
    "### Setup"
   ]
  },
  {
   "cell_type": "markdown",
   "metadata": {},
   "source": [
    "#### Load packages / modules"
   ]
  },
  {
   "cell_type": "code",
   "execution_count": null,
   "metadata": {},
   "outputs": [],
   "source": [
    "%matplotlib inline\n",
    "import numpy as np\n",
    "import matplotlib.pyplot as plt\n",
    "\n",
    "import torch\n",
    "import torch.nn as nn\n",
    "import torch.optim"
   ]
  },
  {
   "cell_type": "markdown",
   "metadata": {},
   "source": [
    "#### Generate training dataset"
   ]
  },
  {
   "cell_type": "code",
   "execution_count": null,
   "metadata": {},
   "outputs": [],
   "source": [
    "n_examples = 100\n",
    "slope = 2.0\n",
    "bias = 0.3\n",
    "noise_std = 0.1"
   ]
  },
  {
   "cell_type": "code",
   "execution_count": null,
   "metadata": {},
   "outputs": [],
   "source": [
    "x_train = np.random.rand(n_examples,1)\n",
    "noise = np.random.randn(n_examples,1)*noise_std\n",
    "y_train = x_train*slope + bias + noise"
   ]
  },
  {
   "cell_type": "code",
   "execution_count": null,
   "metadata": {},
   "outputs": [],
   "source": [
    "fig, ax = plt.subplots()\n",
    "ax.plot(x_train, y_train, 'k.', label='observations')\n",
    "ax.plot(x_train, x_train*slope + bias, 'tab:gray',\n",
    "        label='analytical (m={:.2f}, c={:.2f})'.format(slope, bias))\n",
    "ax.set(xlabel='x', ylabel='y',\n",
    "       title='train dataset');\n",
    "ax.legend();"
   ]
  },
  {
   "cell_type": "markdown",
   "metadata": {},
   "source": [
    "### Setup model"
   ]
  },
  {
   "cell_type": "markdown",
   "metadata": {},
   "source": [
    "#### Hyperparameters"
   ]
  },
  {
   "cell_type": "code",
   "execution_count": null,
   "metadata": {},
   "outputs": [],
   "source": [
    "n_features = 1 # number of trainable parameters (+ bias)\n",
    "num_epochs = 100\n",
    "learning_rate = 0.2"
   ]
  },
  {
   "cell_type": "markdown",
   "metadata": {},
   "source": [
    "#### Model, Loss and Optimizer"
   ]
  },
  {
   "cell_type": "code",
   "execution_count": null,
   "metadata": {},
   "outputs": [],
   "source": [
    "# Linear regression model\n",
    "model = nn.Linear(in_features=n_features, out_features=n_features)\n",
    "\n",
    "# Loss and optimizer\n",
    "criterion = nn.MSELoss() # Mean-Square Error loss\n",
    "optimizer = torch.optim.SGD(model.parameters(), lr=learning_rate) # Stochastic gradient-descent"
   ]
  },
  {
   "cell_type": "markdown",
   "metadata": {},
   "source": [
    "### Train the model"
   ]
  },
  {
   "cell_type": "code",
   "execution_count": null,
   "metadata": {},
   "outputs": [],
   "source": [
    "loss_history = []\n",
    "for epoch in range(num_epochs):\n",
    "    # Convert numpy arrays to torch tensors\n",
    "    x = torch.from_numpy(x_train.astype('float32'))\n",
    "    y = torch.from_numpy(y_train.astype('float32'))\n",
    "\n",
    "    # Forward pass\n",
    "    y_pred = model(x) # prediction step\n",
    "    loss = criterion(y_pred, y)\n",
    "    \n",
    "    # Backward and optimize\n",
    "    optimizer.zero_grad() # reset gradient\n",
    "    loss.backward() # backward propogation \n",
    "    optimizer.step() # update gradient\n",
    "    \n",
    "    loss_history.append(loss.item())\n",
    "    if (epoch+1) % 10 == 0:\n",
    "        print ('Epoch [{}/{}], Loss: {:.4f}'.format(epoch+1, num_epochs, loss.item()))"
   ]
  },
  {
   "cell_type": "code",
   "execution_count": null,
   "metadata": {},
   "outputs": [],
   "source": [
    "fig, ax = plt.subplots()\n",
    "ax.plot(loss_history, '.-')\n",
    "ax.set(xlabel='epoch', ylabel='MSE loss',\n",
    "       title='Loss history');"
   ]
  },
  {
   "cell_type": "markdown",
   "metadata": {},
   "source": [
    "### Predict and evaluate"
   ]
  },
  {
   "cell_type": "code",
   "execution_count": null,
   "metadata": {},
   "outputs": [],
   "source": [
    "# Predict\n",
    "predict = model(torch.from_numpy(x_train.astype('float32'))).detach().numpy()\n",
    "parameters = [param.detach().item() for param in model.parameters()]\n",
    "\n",
    "# Plot the graph\n",
    "fig, ax = plt.subplots()\n",
    "ax.plot(x_train, y_train, 'k.', label='observations')\n",
    "ax.plot(x_train, x_train*slope + bias, 'tab:gray',\n",
    "        label='analytical: (m={:.2f}, c={:.2f})'.format(slope, bias))\n",
    "ax.plot(x_train, predict, 'tab:red', \n",
    "        label='predicted: (m={:.2f}, c={:.2f})'.format(*parameters))\n",
    "ax.set(xlabel='x', ylabel='y',\n",
    "       title='train dataset');\n",
    "ax.legend()"
   ]
  },
  {
   "cell_type": "markdown",
   "metadata": {},
   "source": [
    "### Save the trained model"
   ]
  },
  {
   "cell_type": "code",
   "execution_count": null,
   "metadata": {},
   "outputs": [],
   "source": [
    "# Save the model checkpoint\n",
    "torch.save(model.state_dict(), 'model.ckpt')"
   ]
  },
  {
   "cell_type": "markdown",
   "metadata": {},
   "source": [
    "### Load pretrained model"
   ]
  },
  {
   "cell_type": "code",
   "execution_count": null,
   "metadata": {},
   "outputs": [],
   "source": [
    "checkpoint = torch.load('model.ckpt')\n",
    "checkpoint"
   ]
  },
  {
   "cell_type": "code",
   "execution_count": null,
   "metadata": {},
   "outputs": [],
   "source": [
    "model.load_state_dict(checkpoint)"
   ]
  }
 ],
 "metadata": {
  "kernelspec": {
   "display_name": "Python 3",
   "language": "python",
   "name": "python3"
  },
  "language_info": {
   "codemirror_mode": {
    "name": "ipython",
    "version": 3
   },
   "file_extension": ".py",
   "mimetype": "text/x-python",
   "name": "python",
   "nbconvert_exporter": "python",
   "pygments_lexer": "ipython3",
   "version": "3.8.6"
  },
  "toc-autonumbering": false,
  "toc-showcode": false,
  "toc-showmarkdowntxt": true,
  "toc-showtags": true
 },
 "nbformat": 4,
 "nbformat_minor": 4
}
