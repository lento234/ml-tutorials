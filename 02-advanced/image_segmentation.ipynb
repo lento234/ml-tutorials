{
 "cells": [
  {
   "cell_type": "markdown",
   "metadata": {},
   "source": [
    "[![Colab](https://colab.research.google.com/assets/colab-badge.svg)](https://colab.research.google.com/github/lento234/ml-tutorials/blob/main/02-advanced/image_segmentation.ipynb)\n"
   ]
  },
  {
   "cell_type": "markdown",
   "metadata": {},
   "source": [
    "# Image segmentation\n",
    "\n",
    "## Dataset: PASCAL Visual Object Classes (VOC)\n",
    "\n",
    "<p>\n",
    "<center>\n",
    "        <table border=\"0\" cellspacing=\"0\" cellpadding=\"2\">\n",
    "          <tr>\n",
    "            <th>Image</th><th>Object <br/>segmentation</th><th>Class <br/>segmentation</th>\n",
    "            <td width=\"60\"></td><th>Image</th><th>Object <br/>segmentation</th><th>Class <br/>segmentation</th>\n",
    "          </tr>\n",
    "          <tr>\n",
    "            <td><a href=\"images/01.jpg\"><img src=http://host.robots.ox.ac.uk/pascal/VOC/voc2012/segexamples/images/01_thumb.jpg width=\"120\"/></a></td>\n",
    "            <td><a href=\"images/01_object.png\"><img src=http://host.robots.ox.ac.uk/pascal/VOC/voc2012/segexamples/images/01_object_thumb.png width=\"120\"/></a></td>\n",
    "            <td><a href=\"images/01_class.png\"><img src=http://host.robots.ox.ac.uk/pascal/VOC/voc2012/segexamples/images/01_class_thumb.png width=\"120\"/></a></td>\n",
    "            <td></td>\n",
    "            <td><a href=\"images/02.jpg\"><img src=http://host.robots.ox.ac.uk/pascal/VOC/voc2012/segexamples/images/02.jpg width=\"120\"/></a></td>\n",
    "            <td><a href=\"images/02_object.png\"><img src=http://host.robots.ox.ac.uk/pascal/VOC/voc2012/segexamples/images/02_object.png width=\"120\"/></a></td>\n",
    "            <td><a href=\"images/02_class.png\"><img src=http://host.robots.ox.ac.uk/pascal/VOC/voc2012/segexamples/images/02_class_thumb.png width=\"120\"/></a></td>\n",
    "          </tr>\n",
    "          <tr>\n",
    "            <td><a href=\"images/03.jpg\"><img src=http://host.robots.ox.ac.uk/pascal/VOC/voc2012/segexamples/images/19_thumb.jpg width=\"120\"/></a></td>\n",
    "            <td><a href=\"images/03_object.png\"><img src=http://host.robots.ox.ac.uk/pascal/VOC/voc2012/segexamples/images/19_object_thumb.png width=\"120\"/></a></td>\n",
    "            <td><a href=\"images/03_class.png\"><img src=http://host.robots.ox.ac.uk/pascal/VOC/voc2012/segexamples/images/19_class_thumb.png width=\"120\"/></a></td>\n",
    "            <td></td>\n",
    "            <td><a href=\"images/04.jpg\"><img src=http://host.robots.ox.ac.uk/pascal/VOC/voc2012/segexamples/images/21_thumb.jpg width=\"120\"/></a></td>\n",
    "            <td><a href=\"images/04_object.png\"><img src=http://host.robots.ox.ac.uk/pascal/VOC/voc2012/segexamples/images/21_object_thumb.png width=\"120\"/></a></td>\n",
    "            <td><a href=\"images/04_class.png\"><img src=http://host.robots.ox.ac.uk/pascal/VOC/voc2012/segexamples/images/21_class_thumb.png width=\"120\"/></a></td>\n",
    "          </tr>\n",
    "          <tr>\n",
    "            <td><a href=\"images/05.jpg\"><img src=http://host.robots.ox.ac.uk/pascal/VOC/voc2012/segexamples/images/26_thumb.jpg width=\"120\"/></a></td>\n",
    "            <td><a href=\"images/05_object.png\"><img src=http://host.robots.ox.ac.uk/pascal/VOC/voc2012/segexamples/images/26_object_thumb.png width=\"120\"/></a></td>\n",
    "            <td><a href=\"images/05_class.png\"><img src=http://host.robots.ox.ac.uk/pascal/VOC/voc2012/segexamples/images/26_class_thumb.png width=\"120\"/></a></td>\n",
    "            <td></td>\n",
    "            <td><a href=\"images/06.jpg\"><img src=http://host.robots.ox.ac.uk/pascal/VOC/voc2012/segexamples/images/29_thumb.jpg width=\"120\"/></a></td>\n",
    "            <td><a href=\"images/06_object.png\"><img src=http://host.robots.ox.ac.uk/pascal/VOC/voc2012/segexamples/images/29_object_thumb.png width=\"120\"/></a></td>\n",
    "            <td><a href=\"images/06_class.png\"><img src=http://host.robots.ox.ac.uk/pascal/VOC/voc2012/segexamples/images/29_class_thumb.png width=\"120\"/></a></td>\n",
    "          </tr>\n",
    "        </table>\n",
    "      </center>\n",
    "</p>          \n",
    "\n",
    "<div align=\"center\">\n",
    "    <img src=\"http://host.robots.ox.ac.uk/pascal/VOC/voc2007/examples/bicycle_08.jpg\" alt=\"unet\" width=\"300\"/>\n",
    "    <img src=\"http://host.robots.ox.ac.uk/pascal/VOC/voc2007/examples/dog_08.jpg\" alt=\"unet\" width=\"300\"/>\n",
    "    <img src=\"http://host.robots.ox.ac.uk/pascal/VOC/voc2007/examples/aeroplane_03.jpg\" alt=\"unet\" width=\"300\"/>\n",
    "</div>\n",
    "\n",
    "- http://host.robots.ox.ac.uk/pascal/VOC/\n",
    "\n",
    "**Other datasets**:\n",
    "- The Oxford-IIIT Pet Dataset: https://www.robots.ox.ac.uk/%7Evgg/data/pets/\n",
    "- CamVid: Motion-based segmentation and recognition dataset: http://mi.eng.cam.ac.uk/research/projects/VideoRec/CamVid\n",
    "- Cityscapes dataset: https://www.cityscapes-dataset.com/\n",
    "\n",
    "**References**:\n",
    "- https://github.com/NVIDIA/semantic-segmentation\n",
    "- https://pytorch.org/tutorials/intermediate/torchvision_tutorial.html\n",
    "- https://www.cv-foundation.org/openaccess/content_cvpr_2015/papers/Long_Fully_Convolutional_Networks_2015_CVPR_paper.pdf \n",
    "\n",
    "## Table of  content\n",
    "1. [Load and pre-process dataset](#load)\n",
    "2. [Define a CNN architecture (pre-trained)](#define)\n",
    "3. [Setup the trainer](#trainer)\n",
    "4. [Train the model](#train)\n",
    "----"
   ]
  },
  {
   "cell_type": "markdown",
   "metadata": {},
   "source": [
    "## Setup\n",
    "\n",
    "Lightning is easy to install. Simply ```pip install pytorch-lightning```"
   ]
  },
  {
   "cell_type": "code",
   "execution_count": null,
   "metadata": {},
   "outputs": [],
   "source": [
    "!pip install pytorch-lightning --quiet"
   ]
  },
  {
   "cell_type": "markdown",
   "metadata": {},
   "source": [
    "#### Download dataset"
   ]
  },
  {
   "cell_type": "markdown",
   "metadata": {},
   "source": [
    "### Environment"
   ]
  },
  {
   "cell_type": "code",
   "execution_count": null,
   "metadata": {},
   "outputs": [],
   "source": [
    "import torch\n",
    "import torch.nn as nn\n",
    "import torch.nn.functional as F\n",
    "import torchvision\n",
    "from torchvision import transforms, datasets\n",
    "\n",
    "import pytorch_lightning as pl\n",
    "\n",
    "import matplotlib.pyplot as plt\n",
    "import numpy as np\n",
    "import glob"
   ]
  },
  {
   "cell_type": "code",
   "execution_count": null,
   "metadata": {},
   "outputs": [],
   "source": [
    "pl.seed_everything(234)"
   ]
  },
  {
   "cell_type": "markdown",
   "metadata": {},
   "source": [
    "### Hyper-parameters"
   ]
  },
  {
   "cell_type": "code",
   "execution_count": null,
   "metadata": {},
   "outputs": [],
   "source": [
    "batch_size = 8\n",
    "num_workers = 4\n",
    "max_epochs = 100\n",
    "learning_rate = 0.01"
   ]
  },
  {
   "cell_type": "markdown",
   "metadata": {},
   "source": [
    "<a id='load'></a>\n",
    "## 1. Load and pre-process dataset\n",
    "\n",
    "- Define preprocessing algorithm\n",
    "- Load training and test dataset"
   ]
  },
  {
   "cell_type": "markdown",
   "metadata": {},
   "source": [
    "### 1.1 Define pre-processing steps"
   ]
  },
  {
   "cell_type": "code",
   "execution_count": null,
   "metadata": {},
   "outputs": [],
   "source": [
    "class ToTensor(transforms.ToTensor):\n",
    "    def __call__(self, img, seg):\n",
    "        img = transforms.functional.to_tensor(img)\n",
    "        seg = torch.as_tensor(np.array(seg), dtype=torch.int64)\n",
    "        return img, seg\n",
    "    \n",
    "class Normalize(transforms.Normalize):\n",
    "    def forward(self, img, seg):\n",
    "        img = transforms.functional.normalize(img, self.mean, self.std, self.inplace)\n",
    "        return img, seg\n",
    "    \n",
    "class Compose(transforms.Compose):\n",
    "    def __call__(self, img, seg):\n",
    "        for t in self.transforms:\n",
    "            img, seg = t(img, seg)\n",
    "        return img, seg\n",
    "\n",
    "class RandomCrop(transforms.RandomCrop):\n",
    "    def forward(self, img, seg):\n",
    "        if self.padding is not None:\n",
    "            img = transforms.functional.pad(img, self.padding, self.fill, self.padding_mode)\n",
    "            seg = transforms.functional.pad(seg, self.padding, self.fill, self.padding_mode)\n",
    "\n",
    "        width, height = transforms.functional._get_image_size(img)\n",
    "        # pad the width if needed\n",
    "        if self.pad_if_needed and width < self.size[1]:\n",
    "            padding = [self.size[1] - width, 0]\n",
    "            img = transforms.functional.pad(img, padding, self.fill, self.padding_mode)\n",
    "            seg = transforms.functional.pad(seg, padding, self.fill, self.padding_mode)\n",
    "        # pad the height if needed\n",
    "        if self.pad_if_needed and height < self.size[0]:\n",
    "            padding = [0, self.size[0] - height]\n",
    "            img = transforms.functional.pad(img, padding, self.fill, self.padding_mode)\n",
    "            seg = transforms.functional.pad(seg, padding, self.fill, self.padding_mode)\n",
    "\n",
    "        i, j, h, w = self.get_params(img, self.size)\n",
    "\n",
    "        return transforms.functional.crop(img, i, j, h, w), transforms.functional.crop(seg, i, j, h, w)\n",
    "    \n",
    "transform = Compose([\n",
    "    ToTensor(), # convert image and seg to pytorch tensor\n",
    "    RandomCrop((128, 128)),\n",
    "    Normalize((0.5, 0.5, 0.5), (0.5, 0.5, 0.5)), # normalize dataset\n",
    "])"
   ]
  },
  {
   "cell_type": "markdown",
   "metadata": {},
   "source": [
    "### 1.2 Load training and test dataset"
   ]
  },
  {
   "cell_type": "code",
   "execution_count": null,
   "metadata": {},
   "outputs": [],
   "source": [
    "# Download train and test dataset\n",
    "train_dataset = datasets.VOCSegmentation(root='./data', year='2007',\n",
    "                                         image_set='train', download=True,\n",
    "                                         transforms=transform)\n",
    "val_dataset = datasets.VOCSegmentation(root='./data', year='2007',\n",
    "                                       image_set='val', download=True,\n",
    "                                       transforms=transform)\n",
    "\n",
    "# Dataset sampler (shuffle, distributed loading)\n",
    "train_loader = torch.utils.data.DataLoader(train_dataset, batch_size=batch_size, \n",
    "                                           shuffle=True, num_workers=num_workers)\n",
    "val_loader = torch.utils.data.DataLoader(val_dataset, batch_size=batch_size, \n",
    "                                         shuffle=False, num_workers=num_workers)\n",
    "\n",
    "classes = np.array([\n",
    "    'background', 'aeroplane', 'bicycle', 'bird', 'boat', 'bottle',\n",
    "    'bus', 'car' , 'cat', 'chair', 'cow', 'diningtable', 'dog', 'horse',\n",
    "    'motorbike', 'person', 'potted plant', 'sheep', 'sofa', 'train', 'tv/monitor'\n",
    "])\n",
    "\n",
    "num_classes = len(classes)"
   ]
  },
  {
   "cell_type": "code",
   "execution_count": null,
   "metadata": {},
   "outputs": [],
   "source": [
    "# Functions to show an image\n",
    "def imshow(img, seg):\n",
    "    img = img / 2 + 0.5     # unnormalize\n",
    "    npimg = img.numpy()\n",
    "    npseg = seg.numpy()\n",
    "    print(img.shape, seg.shape)\n",
    "    fig, axes = plt.subplots(2, 1, figsize=(18,5), sharex=True, sharey=True)\n",
    "    axes[0].imshow(np.transpose(npimg, (1, 2, 0)))\n",
    "    im = axes[1].contourf(seg[0], levels=(np.arange(len(classes)+1)-0.5), cmap='tab20')\n",
    "    cbar = fig.colorbar(im, ax=axes)\n",
    "    cbar.set_ticks(np.arange(len(classes)))\n",
    "    cbar.set_ticklabels(classes)\n",
    "    plt.show()\n",
    "\n",
    "\n",
    "# get some random training images\n",
    "img, seg = next(iter(train_loader))\n",
    "# show images\n",
    "imshow(torchvision.utils.make_grid(img, pad_value=1),\n",
    "       torchvision.utils.make_grid(seg[:,None], pad_value=1))"
   ]
  },
  {
   "cell_type": "markdown",
   "metadata": {},
   "source": [
    "<a id=define></a>\n",
    "## 2. Define a CNN architecture FCN - Resnet101\n",
    "\n",
    "![network](../images/fcn_resnet101.png)\n",
    "\n",
    "source: https://arxiv.org/pdf/1605.06211.pdf"
   ]
  },
  {
   "cell_type": "code",
   "execution_count": null,
   "metadata": {},
   "outputs": [],
   "source": [
    "def validation_plot(x, y, y_pred, classes=classes):\n",
    "    num_classes = y_pred.size(1)\n",
    "    \n",
    "    # Transfer to cpu, then to numpy\n",
    "    x = (torchvision.utils.make_grid(x, pad_value=1) / 2 + 0.5).cpu().numpy()\n",
    "    y = torchvision.utils.make_grid(y[:, None], pad_value=1).cpu().numpy()\n",
    "    y_pred = torchvision.utils.make_grid(y_pred.argmax(1)[:, None], pad_value=1).cpu().numpy()\n",
    "\n",
    "    # Plot\n",
    "    fig, axes = plt.subplots(3, 1, figsize=(20,8), sharex=True, sharey=True)\n",
    "    axes[0].imshow(np.transpose(x, (1, 2, 0)))\n",
    "    im = axes[1].contourf(y[0], levels=(np.arange(num_classes+1)-0.5), cmap='tab20')\n",
    "    axes[2].contourf(y_pred[0], levels=(np.arange(num_classes+1)-0.5), cmap='tab20')\n",
    "    cbar = fig.colorbar(im, ax=axes)\n",
    "    cbar.set_ticks(np.arange(num_classes))\n",
    "    cbar.set_ticklabels(classes)\n",
    "    for ax, label in zip(axes, ['input', 'ground truth', 'prediction']):\n",
    "        ax.set_ylabel(label)\n",
    "    return fig"
   ]
  },
  {
   "cell_type": "code",
   "execution_count": null,
   "metadata": {},
   "outputs": [],
   "source": [
    "class Model(pl.LightningModule):\n",
    "    def __init__(self, *args, **kwargs):\n",
    "        super().__init__()\n",
    "        self.net = torchvision.models.segmentation.fcn_resnet101(*args, **kwargs)\n",
    "    \n",
    "    def forward(self, *args, **kwargs):\n",
    "        y = self.net(*args, **kwargs)\n",
    "        if self.training:\n",
    "            return y\n",
    "        else:\n",
    "            return y['out']\n",
    "    \n",
    "    def training_step(self, batch, batch_nb):\n",
    "        x_train, y_train = batch\n",
    "        y_pred = self(x_train)\n",
    "        loss = F.cross_entropy(y_pred['out'], y_train, ignore_index=255) + \\\n",
    "                0.5 * F.cross_entropy(y_pred['aux'], y_train, ignore_index=255)\n",
    "        self.log('train_loss', loss, on_step=True, on_epoch=True, prog_bar=True) # logging\n",
    "        return loss\n",
    "    \n",
    "    def validation_step(self, batch, batch_nb):\n",
    "        x_test, y_test = batch\n",
    "        y_pred = self(x_test)\n",
    "        loss = F.cross_entropy(y_pred, y_test, ignore_index=255)\n",
    "        self.log('val_loss', loss) # logging\n",
    "        self.logger.experiment.add_figure(\n",
    "            \"validation\", validation_plot(x_test, y_test, y_pred),\n",
    "            self.global_step)\n",
    "        return loss\n",
    "    \n",
    "    def configure_optimizers(self):\n",
    "        return torch.optim.SGD(self.parameters(),\n",
    "                               lr=learning_rate)"
   ]
  },
  {
   "cell_type": "code",
   "execution_count": null,
   "metadata": {},
   "outputs": [],
   "source": [
    "model = Model(\n",
    "    pretrained=False,\n",
    "    num_classes=num_classes,\n",
    "    aux_loss=True\n",
    ")"
   ]
  },
  {
   "cell_type": "markdown",
   "metadata": {},
   "source": [
    "<a id=trainer></a>\n",
    "## 3. Setup the trainer"
   ]
  },
  {
   "cell_type": "markdown",
   "metadata": {},
   "source": [
    "### 3.1 Define a logger"
   ]
  },
  {
   "cell_type": "code",
   "execution_count": null,
   "metadata": {},
   "outputs": [],
   "source": [
    "logger = pl.loggers.TensorBoardLogger(\n",
    "    save_dir=\"lightning_logs\",\n",
    "    name=\"VOC\",\n",
    "    log_graph=True\n",
    ")"
   ]
  },
  {
   "cell_type": "markdown",
   "metadata": {},
   "source": [
    "### 3.2 Additional callbacks"
   ]
  },
  {
   "cell_type": "code",
   "execution_count": null,
   "metadata": {},
   "outputs": [],
   "source": [
    "# # checkpoint\n",
    "checkpoint_callback = pl.callbacks.ModelCheckpoint(\n",
    "    monitor='val_loss',\n",
    "    save_top_k=3,\n",
    ")"
   ]
  },
  {
   "cell_type": "markdown",
   "metadata": {},
   "source": [
    "### 3.2 Initialize the trainer"
   ]
  },
  {
   "cell_type": "code",
   "execution_count": null,
   "metadata": {},
   "outputs": [],
   "source": [
    "# GPU trainer\n",
    "trainer = pl.Trainer(\n",
    "    gpus=1,\n",
    "    #fast_dev_run=True,\n",
    "    max_epochs=max_epochs,\n",
    "    progress_bar_refresh_rate=50,\n",
    "    log_gpu_memory='all',\n",
    "    logger=logger,\n",
    "    callbacks=[checkpoint_callback],\n",
    ")"
   ]
  },
  {
   "cell_type": "markdown",
   "metadata": {},
   "source": [
    "<a id=train></a>\n",
    "## 4. Train the model"
   ]
  },
  {
   "cell_type": "code",
   "execution_count": null,
   "metadata": {},
   "outputs": [],
   "source": [
    "trainer.fit(model, train_loader, val_loader)"
   ]
  },
  {
   "cell_type": "markdown",
   "metadata": {},
   "source": [
    "<a id=tensorboard></a>\n",
    "## 5. Assess training with **tensorboard**"
   ]
  },
  {
   "cell_type": "code",
   "execution_count": null,
   "metadata": {},
   "outputs": [],
   "source": [
    "# Start tensorboard\n",
    "%reload_ext tensorboard\n",
    "%tensorboard --logdir lightning_logs"
   ]
  },
  {
   "cell_type": "markdown",
   "metadata": {},
   "source": [
    "<a id=\"validate\"></a>\n",
    "## 5. Test the model on **test** dataset"
   ]
  },
  {
   "cell_type": "code",
   "execution_count": null,
   "metadata": {},
   "outputs": [],
   "source": [
    "model.eval(); # turn off training"
   ]
  },
  {
   "cell_type": "code",
   "execution_count": null,
   "metadata": {},
   "outputs": [],
   "source": [
    "# Test dataset\n",
    "x, y = next(iter(val_loader))\n",
    "y_pred = model(img)\n",
    "\n",
    "# show images\n",
    "fig = validation_plot(x, y, y_pred)"
   ]
  }
 ],
 "metadata": {
  "kernelspec": {
   "display_name": "Python 3",
   "language": "python",
   "name": "python3"
  },
  "language_info": {
   "codemirror_mode": {
    "name": "ipython",
    "version": 3
   },
   "file_extension": ".py",
   "mimetype": "text/x-python",
   "name": "python",
   "nbconvert_exporter": "python",
   "pygments_lexer": "ipython3",
   "version": "3.8.6"
  }
 },
 "nbformat": 4,
 "nbformat_minor": 4
}
